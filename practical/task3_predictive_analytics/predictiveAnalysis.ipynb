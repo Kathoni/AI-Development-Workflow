{
  "metadata": {
    "kernelspec": {
      "name": "python",
      "display_name": "Python (Pyodide)",
      "language": "python"
    },
    "language_info": {
      "codemirror_mode": {
        "name": "python",
        "version": 3
      },
      "file_extension": ".py",
      "mimetype": "text/x-python",
      "name": "python",
      "nbconvert_exporter": "python",
      "pygments_lexer": "ipython3",
      "version": "3.8"
    }
  },
  "nbformat_minor": 5,
  "nbformat": 4,
  "cells": [
    {
      "id": "f5bf8016-9a4c-45a9-a68c-37f8bce62ca9",
      "cell_type": "code",
      "source": "import pandas as pd\nfrom sklearn.model_selection import train_test_split\nfrom sklearn.preprocessing import LabelEncoder\n\n# Load data\ndf = pd.read_csv(\"data.csv\")\nprint(df.head())\n\n\n# Drop unneeded columns\ndf.drop(['id', 'Unnamed: 32'], axis=1, inplace=True)\n\n# Encode target labels: M = malignant, B = benign\ndf['diagnosis'] = df['diagnosis'].map({'M': 1, 'B': 0})\n\n# Simulate issue priority:\n# - High: malignant (1)\n# - Low: benign (0)\n# - Medium: random subset of benign to simulate complexity\nimport numpy as np\ndf['priority'] = df['diagnosis'].apply(lambda x: 'High' if x == 1 else 'Low')\n\n# Upgrade a portion of 'Low' to 'Medium'\nmedium_idx = df[df['priority'] == 'Low'].sample(frac=0.3, random_state=42).index\ndf.loc[medium_idx, 'priority'] = 'Medium'\n\n# Encode 'priority' labels\nle = LabelEncoder()\ndf['priority_encoded'] = le.fit_transform(df['priority'])\n\n# Prepare features and labels\nX = df.drop(['diagnosis', 'priority', 'priority_encoded'], axis=1)\ny = df['priority_encoded']\n\n# Train/test split\nX_train, X_test, y_train, y_test = train_test_split(X, y, test_size=0.2, random_state=42)\n\n# Check shape of the data\nprint(\"Feature set shape (X):\", X.shape)\nprint(\"Label distribution (y):\")\nprint(df['priority'].value_counts())\nprint(\"\\nEncoded labels:\", df['priority_encoded'].unique())\n",
      "metadata": {
        "trusted": true
      },
      "outputs": [
        {
          "name": "stdout",
          "output_type": "stream",
          "text": "         id diagnosis  radius_mean  texture_mean  perimeter_mean  area_mean  \\\n0    842302         M        17.99         10.38          122.80     1001.0   \n1    842517         M        20.57         17.77          132.90     1326.0   \n2  84300903         M        19.69         21.25          130.00     1203.0   \n3  84348301         M        11.42         20.38           77.58      386.1   \n4  84358402         M        20.29         14.34          135.10     1297.0   \n\n   smoothness_mean  compactness_mean  concavity_mean  concave points_mean  \\\n0          0.11840           0.27760          0.3001              0.14710   \n1          0.08474           0.07864          0.0869              0.07017   \n2          0.10960           0.15990          0.1974              0.12790   \n3          0.14250           0.28390          0.2414              0.10520   \n4          0.10030           0.13280          0.1980              0.10430   \n\n   ...  texture_worst  perimeter_worst  area_worst  smoothness_worst  \\\n0  ...          17.33           184.60      2019.0            0.1622   \n1  ...          23.41           158.80      1956.0            0.1238   \n2  ...          25.53           152.50      1709.0            0.1444   \n3  ...          26.50            98.87       567.7            0.2098   \n4  ...          16.67           152.20      1575.0            0.1374   \n\n   compactness_worst  concavity_worst  concave points_worst  symmetry_worst  \\\n0             0.6656           0.7119                0.2654          0.4601   \n1             0.1866           0.2416                0.1860          0.2750   \n2             0.4245           0.4504                0.2430          0.3613   \n3             0.8663           0.6869                0.2575          0.6638   \n4             0.2050           0.4000                0.1625          0.2364   \n\n   fractal_dimension_worst  Unnamed: 32  \n0                  0.11890          NaN  \n1                  0.08902          NaN  \n2                  0.08758          NaN  \n3                  0.17300          NaN  \n4                  0.07678          NaN  \n\n[5 rows x 33 columns]\nFeature set shape (X): (569, 30)\nLabel distribution (y):\npriority\nLow       250\nHigh      212\nMedium    107\nName: count, dtype: int64\n\nEncoded labels: [0 1 2]\n"
        }
      ],
      "execution_count": 3
    },
    {
      "id": "a9f7a8ef-5bdd-4eb9-b205-113c5f916809",
      "cell_type": "code",
      "source": "from sklearn.ensemble import RandomForestClassifier\nfrom sklearn.metrics import accuracy_score, f1_score, classification_report\n\n# Model\nmodel = RandomForestClassifier(n_estimators=100, random_state=42)\nmodel.fit(X_train, y_train)\n\n# Predict\ny_pred = model.predict(X_test)\n\n# Evaluate\naccuracy = accuracy_score(y_test, y_pred)\nf1 = f1_score(y_test, y_pred, average='weighted')\n\nprint(f\"Accuracy: {accuracy:.2f}\")\nprint(f\"F1-score: {f1:.2f}\")\nprint(\"\\nClassification Report:\")\nprint(classification_report(y_test, y_pred, target_names=le.classes_))\n",
      "metadata": {
        "trusted": true
      },
      "outputs": [
        {
          "name": "stdout",
          "output_type": "stream",
          "text": "Accuracy: 0.76\nF1-score: 0.72\n\nClassification Report:\n              precision    recall  f1-score   support\n\n        High       0.95      0.95      0.95        43\n         Low       0.69      0.90      0.78        50\n      Medium       0.17      0.05      0.07        21\n\n    accuracy                           0.76       114\n   macro avg       0.60      0.63      0.60       114\nweighted avg       0.69      0.76      0.72       114\n\n"
        }
      ],
      "execution_count": 4
    },
    {
      "id": "b6be5bfd-1658-4fd2-8bd2-e8b96f877a11",
      "cell_type": "code",
      "source": "",
      "metadata": {
        "trusted": true
      },
      "outputs": [],
      "execution_count": null
    }
  ]
}